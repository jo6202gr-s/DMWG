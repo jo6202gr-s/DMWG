{
 "cells": [
  {
   "cell_type": "code",
   "execution_count": 12,
   "metadata": {},
   "outputs": [
    {
     "name": "stderr",
     "output_type": "stream",
     "text": [
      "Error in <TList::Delete>: A list is accessing an object (0x853ea40) already deleted (list name = TList)\n",
      "Error in <TList::Delete>: A list is accessing an object (0x887e6d0) already deleted (list name = TList)\n",
      "Error in <TList::Delete>: A list is accessing an object (0x88859f0) already deleted (list name = TList)\n",
      "Error in <TList::Delete>: A list is accessing an object (0x832f170) already deleted (list name = TList)\n",
      "Error in <TList::Delete>: A list is accessing an object (0x8458f30) already deleted (list name = TList)\n"
     ]
    },
    {
     "data": {
      "image/png": "[encoded data removed]",
      "text/plain": [
       "<IPython.core.display.Image object>"
      ]
     },
     "metadata": {},
     "output_type": "display_data"
    }
   ],
   "source": [
    "from ROOT import TCanvas, TPad, TFile, TPaveText, TGraphAsymmErrors, TMultiGraph\n",
    "from ROOT import gBenchmark, gStyle, gROOT\n",
    "c1 = TCanvas('c1','HEPdata canvas',200,10,700,500)\n",
    "gBenchmark.Start('d1')\n",
    "#\n",
    "# Connect ROOT histogram/d demonstration file\n",
    "f1 = TFile('HEPData.root')\n",
    "\n",
    "# Change default style for the statistics box\n",
    "gStyle.SetStatW(0.30)\n",
    "gStyle.SetStatH(0.20)\n",
    "gStyle.SetStatColor(42)\n",
    "#\n",
    "# Display a function of one directory column imposing a condition\n",
    "# on another column.\n",
    "c1.cd()\n",
    "c1.SetGrid()\n",
    "c1.SetLogy()\n",
    "c1.GetFrame().SetFillColor(15)\n",
    "d = gROOT.FindObject('Coupling limits on g_{q}, vector mediator')\n",
    "\n",
    "gr1 = d.Get('Graph1D_y1')\n",
    "#gr2 = d.Get('Graph1D_y2')\n",
    "#gr3 = d.Get('Graph1D_y3')\n",
    "#gr4 = d.Get('Graph1D_y4')\n",
    "#gr5 = d.Get('Graph1D_y5')\n",
    "#gr6 = d.Get('Graph1D_y6')\n",
    "\n",
    "mg = TMultiGraph()\n",
    "\n",
    "\n",
    "\n",
    "mg.Add(gr1)\n",
    "\n",
    "\n",
    "mg.SetTitle(\"Coupling Limits on g_{q}. vector mediator;M_med (GeV);g_q\")\n",
    "mg.Draw(\"ALP\")\n",
    "\n",
    "c1.Draw()\n",
    "c1.Update()\n",
    "\n",
    "c1.SaveAs('HEPDataOut.pdf');"
   ]
  },
  {
   "cell_type": "code",
   "execution_count": null,
   "metadata": {},
   "outputs": [],
   "source": []
  },
  {
   "cell_type": "code",
   "execution_count": null,
   "metadata": {},
   "outputs": [],
   "source": []
  },
  {
   "cell_type": "code",
   "execution_count": null,
   "metadata": {},
   "outputs": [],
   "source": []
  }
 ],
 "metadata": {
  "kernelspec": {
   "display_name": "Python 3",
   "language": "python",
   "name": "python3"
  },
  "language_info": {
   "codemirror_mode": {
    "name": "ipython",
    "version": 3
   },
   "file_extension": ".py",
   "mimetype": "text/x-python",
   "name": "python",
   "nbconvert_exporter": "python",
   "pygments_lexer": "ipython3",
   "version": "3.8.10"
  }
 },
 "nbformat": 4,
 "nbformat_minor": 4
}
